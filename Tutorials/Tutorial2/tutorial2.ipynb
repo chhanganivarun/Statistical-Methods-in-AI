{
 "cells": [
  {
   "cell_type": "markdown",
   "metadata": {},
   "source": [
    "# SMAI Tutorial 2: Intro to Python\n",
    "## Python Basics\n",
    "\n",
    "- Python is an interpreted language"
   ]
  },
  {
   "cell_type": "markdown",
   "metadata": {},
   "source": [
    "### Python Interpreter\n",
    "Run `python` to run the default python interpreter. Alternatively, to start the interpreter for a specific version of python, run `python2.x` or `python3.x` where `x` would correspond to the version number of python installed.\n",
    "\n",
    "As the support for python2.7 is going to end in 2020, we are going to be using python 3.6 for this tutorial."
   ]
  },
  {
   "cell_type": "code",
   "execution_count": 9,
   "metadata": {},
   "outputs": [
    {
     "data": {
      "text/html": [
       "<iframe src=\"https://pythonclock.org/\" width=\"800\" height=\"200\" scrolling=\"no\"></iframe>\n"
      ],
      "text/plain": [
       "<IPython.core.display.HTML object>"
      ]
     },
     "metadata": {},
     "output_type": "display_data"
    }
   ],
   "source": [
    "%%html\n",
    "<iframe src=\"https://pythonclock.org/\" width=\"800\" height=\"200\" scrolling=\"no\"></iframe>"
   ]
  },
  {
   "cell_type": "markdown",
   "metadata": {},
   "source": [
    "#### This is what the python interpreter looks like:\n",
    "![alt text](__imgs/py36interpreter.jpg \"Python Interpreter\")"
   ]
  },
  {
   "cell_type": "markdown",
   "metadata": {},
   "source": [
    "### Python is dynamically typed!\n",
    " - Python variable assignment is different from some of the popular languages like c, c++ and java.\n",
    " - There is no declaration of a variable, just an assignment statement.\n",
    " - It doesn’t know about the type of the variable until the code is run.\n",
    " - It stores that value at some memory location and then binds that variable name to that memory container thus making the contents of the container accessible through that variable name"
   ]
  },
  {
   "cell_type": "code",
   "execution_count": 11,
   "metadata": {},
   "outputs": [
    {
     "name": "stdout",
     "output_type": "stream",
     "text": [
      "<class 'int'>\n",
      "<class 'str'>\n"
     ]
    }
   ],
   "source": [
    "x = 1\n",
    "print(type(x))\n",
    "x = 'python is awesome'\n",
    "print(type(x))"
   ]
  },
  {
   "cell_type": "markdown",
   "metadata": {},
   "source": [
    "### Datatypes\n",
    "#### Integers\n",
    "\n",
    "- No limit to how long an integer value can be. Constrained only by the system memory!\n",
    "- Any sequence of decimal numbers not starting with 0 (unless its zeros itself) are considered in decimal system.\n",
    "- Binary, Octal and Hex numbers can be specified with `0b`, `0o` and `0x` prefixes."
   ]
  },
  {
   "cell_type": "code",
   "execution_count": 21,
   "metadata": {},
   "outputs": [
    {
     "name": "stdout",
     "output_type": "stream",
     "text": [
      "A vet long integer...\n",
      "123123123123123123123123123123123123123123123123123 <class 'int'>\n",
      "\n",
      "\n",
      "100 in decimal system is: 100\n",
      "100 in binary system is: 4\n",
      "100 in octal system is: 64\n",
      "100 in hexadecimal system is: 256\n"
     ]
    }
   ],
   "source": [
    "print('A vet long integer...')\n",
    "x = 123123123123123123123123123123123123123123123123123\n",
    "print(x, type(x))\n",
    "print('\\n')\n",
    "\n",
    "x = 100\n",
    "print('100 in decimal system is:', x)\n",
    "x = 0b100\n",
    "print('100 in binary system is:', x)\n",
    "x = 0o100\n",
    "print('100 in octal system is:', x)\n",
    "x = 0x100\n",
    "print('100 in hexadecimal system is:', x)"
   ]
  },
  {
   "cell_type": "markdown",
   "metadata": {},
   "source": [
    "#### Floating-Point Numbers\n",
    "- Float values are specified with a decimal point.\n",
    "- Optionally, the character `e` or `E` followed by a positive or negative integer may be appended to specify scientific notation\n",
    "- Optional to have a number before/after the decimal point"
   ]
  },
  {
   "cell_type": "code",
   "execution_count": 25,
   "metadata": {},
   "outputs": [
    {
     "name": "stdout",
     "output_type": "stream",
     "text": [
      "The value of x is: 4.6 & its type is: <class 'float'>\n",
      "The value of y is: 1200.0 & its type is: <class 'float'>\n",
      "The value of x is: 4.0 & its type is: <class 'float'>\n",
      "The value of y is: 0.3 & its type is: <class 'float'>\n"
     ]
    }
   ],
   "source": [
    "x = 4.6\n",
    "y = 1.2e3 # 1.2*10^3\n",
    "z = 4.\n",
    "w = .3\n",
    "print('The value of x is:', x, '& its type is:', type(x))\n",
    "print('The value of y is:', y, '& its type is:', type(y))\n",
    "print('The value of x is:', z, '& its type is:', type(z))\n",
    "print('The value of y is:', w, '& its type is:', type(w))"
   ]
  },
  {
   "cell_type": "markdown",
   "metadata": {},
   "source": [
    "### Complex Numbers\n",
    "Complex numbers are specified as `real part` + `imaginary part`j"
   ]
  },
  {
   "cell_type": "code",
   "execution_count": 27,
   "metadata": {},
   "outputs": [
    {
     "name": "stdout",
     "output_type": "stream",
     "text": [
      "The value of x is: (2+1.2j) & its type is: <class 'complex'>\n"
     ]
    }
   ],
   "source": [
    "x = 2 + 1.2j\n",
    "print('The value of x is:', x, '& its type is:', type(x))"
   ]
  },
  {
   "cell_type": "markdown",
   "metadata": {},
   "source": [
    "### Basic math operations"
   ]
  },
  {
   "cell_type": "code",
   "execution_count": 68,
   "metadata": {},
   "outputs": [
    {
     "name": "stdout",
     "output_type": "stream",
     "text": [
      "ADDITION (+) & SUBTRACTION (-):\n",
      "2 + 3 = 5\n",
      "2 + 4.2 = 6.2\n",
      "x has changed is type to <class 'float'> after being added to a float\n",
      "After inplace subtraction, x is now: 2.0 \n",
      "\n",
      "MULTIPLICATION: (*)\n",
      "Notice how type is change on multiplication with a float\n",
      "2.0 * 3 = 6.0\n",
      "5 * 3 = 15 \n",
      "\n",
      "DIVISION: (/)\n",
      "2.0 / 3 = 0.6666666666666666\n",
      "5 / 5 = 1.0\n",
      "3 is of type <class 'int'> but 3 /3 is 1.0 which is of type <class 'float'>\n",
      "Floor division is performed by //: 3 //3 is 1 which is of type <class 'int'> \n",
      "\n",
      "POWER:(**)\n",
      "Power operation can be perfomed by **\n",
      "3 raised to the power 2 is 9\n",
      "3 raised to the power 4.5 is 140.29611541307906\n"
     ]
    }
   ],
   "source": [
    "print('ADDITION (+) & SUBTRACTION (-):')\n",
    "x = 2\n",
    "y = 3\n",
    "z = x + y\n",
    "print(x, '+', y, '=', z)\n",
    "print(x, '+ 4.2', '=', x + 4.2)\n",
    "x = x + 0.2\n",
    "print('x has changed is type to', type(x), 'after being added to a float')\n",
    "x -= 0.2 # Inplace addition/subtraction\n",
    "print('After inplace subtraction, x is now:', x, '\\n')\n",
    "print('MULTIPLICATION: (*)')\n",
    "print('Notice how type is change on multiplication with a float')\n",
    "print(x, '*', y, '=', (x*y))\n",
    "print(z, '*', y, '=', (z*y), '\\n')\n",
    "print('DIVISION: (/)')\n",
    "print(x, '/', y, '=', (x/y))\n",
    "print(z, '/', 5, '=', (z/5))\n",
    "print(y, 'is of type', type(y), 'but', y, '/3 is', y/3, 'which is of type', type(y/3))\n",
    "print('Floor division is performed by //:', y, '//3 is', y//3, 'which is of type', type(y//3), '\\n')\n",
    "print('POWER:(**)')\n",
    "print('Power operation can be perfomed by **')\n",
    "print(y, 'raised to the power 2 is', y**2)\n",
    "print(y, 'raised to the power 4.5 is', y**4.5)"
   ]
  },
  {
   "cell_type": "markdown",
   "metadata": {},
   "source": [
    "### Strings\n",
    "- Strings are sequences of c\"haracter data.\n",
    "- The string type in Python is called str.\n",
    "- String literals may be delimited using either single `'` or double quotes `\"`.\n",
    "- All the characters between the opening delimiter and matching closing delimiter are part of the string.\n",
    "- Immutable\n",
    "- Characters can be accessed using indexing notation."
   ]
  },
  {
   "cell_type": "code",
   "execution_count": 1,
   "metadata": {},
   "outputs": [
    {
     "name": "stdout",
     "output_type": "stream",
     "text": [
      "The value of x is: Hello world & its type is: <class 'str'>\n",
      "The value of y is: Some text here & its type is: <class 'str'> \n",
      "\n",
      "The first character of string x is: H \n",
      "\n"
     ]
    },
    {
     "ename": "TypeError",
     "evalue": "'str' object does not support item assignment",
     "output_type": "error",
     "traceback": [
      "\u001b[0;31m---------------------------------------------------------------------------\u001b[0m",
      "\u001b[0;31mTypeError\u001b[0m                                 Traceback (most recent call last)",
      "\u001b[0;32m<ipython-input-1-78063fac9401>\u001b[0m in \u001b[0;36m<module>\u001b[0;34m\u001b[0m\n\u001b[1;32m      5\u001b[0m \u001b[0mprint\u001b[0m\u001b[0;34m(\u001b[0m\u001b[0;34m'The value of y is:'\u001b[0m\u001b[0;34m,\u001b[0m \u001b[0my\u001b[0m\u001b[0;34m,\u001b[0m \u001b[0;34m'& its type is:'\u001b[0m\u001b[0;34m,\u001b[0m \u001b[0mtype\u001b[0m\u001b[0;34m(\u001b[0m\u001b[0my\u001b[0m\u001b[0;34m)\u001b[0m\u001b[0;34m,\u001b[0m \u001b[0;34m'\\n'\u001b[0m\u001b[0;34m)\u001b[0m\u001b[0;34m\u001b[0m\u001b[0m\n\u001b[1;32m      6\u001b[0m \u001b[0mprint\u001b[0m\u001b[0;34m(\u001b[0m\u001b[0;34m'The first character of string x is:'\u001b[0m\u001b[0;34m,\u001b[0m \u001b[0mx\u001b[0m\u001b[0;34m[\u001b[0m\u001b[0;36m0\u001b[0m\u001b[0;34m]\u001b[0m\u001b[0;34m,\u001b[0m \u001b[0;34m'\\n'\u001b[0m\u001b[0;34m)\u001b[0m\u001b[0;34m\u001b[0m\u001b[0m\n\u001b[0;32m----> 7\u001b[0;31m \u001b[0mx\u001b[0m\u001b[0;34m[\u001b[0m\u001b[0;36m0\u001b[0m\u001b[0;34m]\u001b[0m \u001b[0;34m=\u001b[0m \u001b[0;34m'b'\u001b[0m \u001b[0;31m# thows an exception because strings are immutable\u001b[0m\u001b[0;34m\u001b[0m\u001b[0m\n\u001b[0m",
      "\u001b[0;31mTypeError\u001b[0m: 'str' object does not support item assignment"
     ]
    }
   ],
   "source": [
    "x = 'Hello world'\n",
    "y = \"Some text here\"\n",
    "\n",
    "print('The value of x is:', x, '& its type is:', type(x))\n",
    "print('The value of y is:', y, '& its type is:', type(y), '\\n')\n",
    "print('The first character of string x is:', x[0], '\\n')\n",
    "x[0] = 'b' # thows an exception because strings are immutable"
   ]
  },
  {
   "cell_type": "markdown",
   "metadata": {},
   "source": [
    "- If you want to include a quote character as part of the string itself, then either use the other kind of delimiter for the string or use escape sequences or you can use triple quoted strings.\n",
    "- Escape sequences that you might be familiar with can also be used here. Eg: `\\t`, `\\\\`, `\\n`, etc\n",
    "- For uniformity try using either `'` or `\"` for defining string. Avoid mixing the two. "
   ]
  },
  {
   "cell_type": "code",
   "execution_count": 78,
   "metadata": {},
   "outputs": [
    {
     "name": "stdout",
     "output_type": "stream",
     "text": [
      "These -> \"\" are called double quotes\n",
      "These -> '' are called single quotes\n",
      "We can use ' and \" together too!! \n",
      "\n",
      "A triple quoted string can be used for\n",
      "a string spanning multiple lines \n",
      "\n",
      "\\ can be used to write strings in multiple lines \n",
      "\n",
      "Be cautious of something like this!\n",
      "C:\\some\n",
      "ame\n",
      "C:\\some\\name\n",
      "C:\\some\\name\n"
     ]
    }
   ],
   "source": [
    "# a = 'These -> '' are called double quotes #throws and exception!\n",
    "x = 'These -> \"\" are called double quotes'\n",
    "y = \"These -> '' are called single quotes\"\n",
    "z = \"We can use \\' and \\\" together too!!\"\n",
    "print(x)\n",
    "print(y)\n",
    "print(z, '\\n')\n",
    "x = '''A triple quoted string can be used for\n",
    "a string spanning multiple lines'''\n",
    "print(x, '\\n')\n",
    "y = '\\\\ can be used to write strings \\\n",
    "in multiple lines'\n",
    "print(y, '\\n')\n",
    "print('Be cautious of something like this!')\n",
    "print('C:\\some\\name')\n",
    "print('C:\\some\\\\name')\n",
    "print(r'C:\\some\\name') # raw string using the r prefix"
   ]
  },
  {
   "cell_type": "code",
   "execution_count": 74,
   "metadata": {},
   "outputs": [
    {
     "name": "stdout",
     "output_type": "stream",
     "text": [
      "SOME STRING OPERATIONS:\n",
      "Hello + World = HelloWorld\n",
      "Hello * 3 = HelloHelloHello\n"
     ]
    }
   ],
   "source": [
    "print('SOME STRING OPERATIONS:')\n",
    "x = 'Hello'\n",
    "y = 'World'\n",
    "print(x, \"+\", y, \"=\", x + y) # String concatenation\n",
    "print(x, \"*\", 3, \"=\", x*3)"
   ]
  },
  {
   "cell_type": "markdown",
   "metadata": {},
   "source": [
    "#### String formatting\n",
    "- `format` method can be used to format string objects.\n",
    "- `%` can also be used to achieve the same thing. Here the format specifier used is %`<type>`"
   ]
  },
  {
   "cell_type": "code",
   "execution_count": 109,
   "metadata": {},
   "outputs": [
    {
     "name": "stdout",
     "output_type": "stream",
     "text": [
      "MATLAB's 1 based indexing makes no sense!\n",
      "MATLAB's 1 based indexing makes no sense!\n",
      "Python's 0 based indexing makes total sense! \n",
      "\n",
      "You can also assign the index to the {} placeholder\n",
      "1 2 ka 4, 4 2 ka 1\n",
      "Using % to format the string!\n",
      "  2 duni 4.00 \n",
      "\n",
      "ALIGNMENT:\n",
      "----3\n",
      "3----\n",
      "--3--\n"
     ]
    }
   ],
   "source": [
    "x = 'MATLAB\\'s {} based indexing makes no sense!'\n",
    "y = '{}\\'s {} based indexing makes {} sense!'\n",
    "print(x.format(1))\n",
    "print(y.format('MATLAB', 1, 'no'))\n",
    "print(y.format('Python', 0, 'total'), '\\n')\n",
    "print('You can also assign the index to the {} placeholder')\n",
    "print('{0} {1} ka {2}, {2} {1} ka {0}'.format(1,2,4))\n",
    "print('Using % to format the string!')\n",
    "print('%3d %s %3.2f' % (2, 'duni', 4), '\\n')\n",
    "print('ALIGNMENT:')\n",
    "print('{:->5}'.format(3))\n",
    "print('{:-<5}'.format(3))\n",
    "print('{:-^5}'.format(3))"
   ]
  },
  {
   "cell_type": "markdown",
   "metadata": {},
   "source": [
    "### Boolean Type\n",
    "- Has 2 values `True` and `False`\n",
    "- The boolean type in Python is called `bool`.\n",
    "- Notice that the letters `T` and `F` are in CAPS, unlike most languages you might be familiar with."
   ]
  },
  {
   "cell_type": "code",
   "execution_count": 41,
   "metadata": {},
   "outputs": [
    {
     "name": "stdout",
     "output_type": "stream",
     "text": [
      "The value of x is: True & its type is: <class 'bool'>\n",
      "The value of y is: False & its type is: <class 'bool'>\n"
     ]
    }
   ],
   "source": [
    "x = True\n",
    "y = False\n",
    "\n",
    "print('The value of x is:', x, '& its type is:', type(x))\n",
    "print('The value of y is:', y, '& its type is:', type(y))"
   ]
  },
  {
   "cell_type": "markdown",
   "metadata": {},
   "source": [
    "### Lists\n",
    "- List are analogous to array in other languages.\n",
    "- However, lists in python need not have homogenous elements, i.e., of the same type.\n",
    "- Can be used to implement stacks and queues in <5 LOC (lines of code).\n",
    "- Mutable\n",
    "- Ordered\n",
    "- zero indexed (A sensible thing to do!)"
   ]
  },
  {
   "cell_type": "code",
   "execution_count": 144,
   "metadata": {},
   "outputs": [
    {
     "name": "stdout",
     "output_type": "stream",
     "text": [
      "The contents of x are: [1, 2.4, 'doggo', True, 1j]\n",
      "The first element of x is: 1\n",
      "The third element of x is: doggo\n"
     ]
    }
   ],
   "source": [
    "x = [1, 2.4, 'doggo', True, 1j]\n",
    "y = [1, 2, 3]\n",
    "print('The contents of x are:', x)\n",
    "print('The first element of x is:', x[0])\n",
    "print('The third element of x is:', x[2])"
   ]
  },
  {
   "cell_type": "code",
   "execution_count": 145,
   "metadata": {},
   "outputs": [
    {
     "name": "stdout",
     "output_type": "stream",
     "text": [
      "Adding an element to a list\n",
      "[1, 2.4, 'doggo', True, 1j, 'a new element!']\n",
      "You can also add a list as an element\n",
      "[2, 1, ['new', 'list'], 2.4, 'doggo', True, 1j, 'a new element!'] \n",
      "\n",
      "Deleting an element!\n",
      "Popping the 3rd element, which is ['new', 'list'] \n",
      "Now list is: [2, 1, 2.4, 'doggo', True, 1j, 'a new element!']\n",
      "[1, 2.4, 'doggo', True, 1j, 'a new element!'] \n",
      "\n",
      "Merging two lists:\n",
      "[1, 2.4, 'doggo', True, 1j, 'a new element!', 1, 2.4, 'doggo', True, 1j, 'a new element!']\n",
      "[1, 2, 3, 1, 2.4, 'doggo', True, 1j, 'a new element!'] \n",
      "\n",
      "Number of elements in a list:\n",
      "x contains 6 elements, whereas y contains 9 elements\n"
     ]
    }
   ],
   "source": [
    "print('Adding an element to a list')\n",
    "x.append('a new element!')\n",
    "print(x)\n",
    "x.insert(-20, 2)\n",
    "print('You can also add a list as an element')\n",
    "x.insert(2, ['new', 'list'])\n",
    "print(x, '\\n')\n",
    "print('Deleting an element!')\n",
    "print('Popping the 3rd element, which is', x.pop(2), '\\nNow list is:', x)\n",
    "del x[0]\n",
    "print(x, '\\n')\n",
    "print('Merging two lists:')\n",
    "print(x + x)\n",
    "y.extend(x)\n",
    "print(y, '\\n')\n",
    "print('Number of elements in a list:')\n",
    "print('x contains', len(x), 'elements, whereas y contains', len(y), 'elements')"
   ]
  },
  {
   "cell_type": "markdown",
   "metadata": {},
   "source": [
    "### Tuples\n",
    "- A Tuple is a collection of Python objects separated by commas.\n",
    "- In someways a tuple is similar to a list in terms of indexing, nested objects and repetition but a tuple is immutable unlike lists which are mutable."
   ]
  },
  {
   "cell_type": "code",
   "execution_count": 146,
   "metadata": {},
   "outputs": [
    {
     "name": "stdout",
     "output_type": "stream",
     "text": [
      "The value of x is: (1, 2, 'Hello') & its type is: <class 'tuple'>\n",
      "The value of y is: (2, 4) & its type is: <class 'tuple'>\n",
      "4\n"
     ]
    },
    {
     "ename": "TypeError",
     "evalue": "'tuple' object does not support item assignment",
     "output_type": "error",
     "traceback": [
      "\u001b[0;31m---------------------------------------------------------------------------\u001b[0m",
      "\u001b[0;31mTypeError\u001b[0m                                 Traceback (most recent call last)",
      "\u001b[0;32m<ipython-input-146-73f46d4ba490>\u001b[0m in \u001b[0;36m<module>\u001b[0;34m\u001b[0m\n\u001b[1;32m      4\u001b[0m \u001b[0mprint\u001b[0m\u001b[0;34m(\u001b[0m\u001b[0;34m'The value of y is:'\u001b[0m\u001b[0;34m,\u001b[0m \u001b[0my\u001b[0m\u001b[0;34m,\u001b[0m \u001b[0;34m'& its type is:'\u001b[0m\u001b[0;34m,\u001b[0m \u001b[0mtype\u001b[0m\u001b[0;34m(\u001b[0m\u001b[0my\u001b[0m\u001b[0;34m)\u001b[0m\u001b[0;34m)\u001b[0m\u001b[0;34m\u001b[0m\u001b[0;34m\u001b[0m\u001b[0m\n\u001b[1;32m      5\u001b[0m \u001b[0mprint\u001b[0m\u001b[0;34m(\u001b[0m\u001b[0my\u001b[0m\u001b[0;34m[\u001b[0m\u001b[0;36m1\u001b[0m\u001b[0;34m]\u001b[0m\u001b[0;34m)\u001b[0m\u001b[0;34m\u001b[0m\u001b[0;34m\u001b[0m\u001b[0m\n\u001b[0;32m----> 6\u001b[0;31m \u001b[0my\u001b[0m\u001b[0;34m[\u001b[0m\u001b[0;36m1\u001b[0m\u001b[0;34m]\u001b[0m \u001b[0;34m=\u001b[0m \u001b[0;36m22\u001b[0m \u001b[0;31m# raises exception because tuple is immutable!\u001b[0m\u001b[0;34m\u001b[0m\u001b[0;34m\u001b[0m\u001b[0m\n\u001b[0m",
      "\u001b[0;31mTypeError\u001b[0m: 'tuple' object does not support item assignment"
     ]
    }
   ],
   "source": [
    "x = (1, 2, 'Hello')\n",
    "print('The value of x is:', x, '& its type is:', type(x))\n",
    "y = 2, 4\n",
    "print('The value of y is:', y, '& its type is:', type(y))\n",
    "print(y[1])\n",
    "y[1] = 22 # raises exception because tuple is immutable!"
   ]
  },
  {
   "cell_type": "markdown",
   "metadata": {},
   "source": [
    "### Sets\n",
    "- Set is an unordered collection data type that is iterable, mutable, and has no duplicate elements.\n",
    "- Python’s set class represents the mathematical notion of a set.\n",
    "- The major advantage of using a set, as opposed to a list, is that it has a highly optimized method for checking whether a specific element is contained in the set. This is based on a data structure known as a hash table."
   ]
  },
  {
   "cell_type": "code",
   "execution_count": 213,
   "metadata": {},
   "outputs": [
    {
     "name": "stdout",
     "output_type": "stream",
     "text": [
      "x: [1, 2, 3, 4, 1, 2, 3]\n",
      "y: {1, 2, 3, 4}\n",
      "z: {1, 4, 9} \n",
      "\n",
      "Adding a member in set:\n",
      "{1, 2, 3, 4, 22} \n",
      "\n",
      "Union of 2 sets:\n",
      "{1, 2, 3, 4, 22, 9}\n",
      "{1, 2, 3, 4, 22, 9} \n",
      "\n",
      "Instersection of 2 sets\n",
      "{1, 4}\n",
      "{1, 4} \n",
      "\n",
      "Difference of 2 sets\n",
      "y\\z: {2, 3, 22}\n",
      "y\\z: {2, 3, 22}\n",
      "z\\y: {9}\n",
      "z\\y: {9} \n",
      "\n",
      "Superset and subset check:\n",
      "Is {1, 2} subset of {1, 2, 3, 4, 22} ? True\n",
      "Is {1, 2, 3, 4, 22} superset of {1, 2}? True\n",
      "Is {1, 2, 3, 4, 22} superset of {1, 4, 9} ? False\n",
      "\n",
      "Disjoint:\n",
      "Are set {1, 2, 3, 4, 22} & {1, 4, 9} disjoint? False\n"
     ]
    }
   ],
   "source": [
    "x = [1, 2, 3, 4, 1, 2, 3]\n",
    "y = set(x)\n",
    "z = {1, 4, 9}\n",
    "print('x:', x)\n",
    "print('y:', y)\n",
    "print('z:', z, '\\n')\n",
    "\n",
    "print('Adding a member in set:')\n",
    "y.add(22)\n",
    "print(y, '\\n')\n",
    "\n",
    "print('Union of 2 sets:')\n",
    "print(y.union(z))\n",
    "print(y | z, '\\n')\n",
    "\n",
    "print('Instersection of 2 sets')\n",
    "print(y.intersection(z))\n",
    "print(y & z, '\\n')\n",
    "\n",
    "print('Difference of 2 sets')\n",
    "print('y\\z:', y - z)\n",
    "print('y\\z:', y.difference(z))\n",
    "print('z\\y:', z - y)\n",
    "print('z\\y:', z.difference(y), '\\n')\n",
    "\n",
    "print('Superset and subset check:')\n",
    "print('Is {1, 2} subset of', y, '?', set([1,2]).issubset(y)) # can use < and > for subset and superset!\n",
    "print('Is', y, 'superset of {1, 2}?', y.issuperset(set([1,2])))\n",
    "print('Is', y, 'superset of', z, '?', y > z) # same as y.issuperset(z)\n",
    "print()\n",
    "\n",
    "print('Disjoint:')\n",
    "print('Are set', y, '&', z, 'disjoint?', y.isdisjoint(z))"
   ]
  },
  {
   "cell_type": "markdown",
   "metadata": {},
   "source": [
    "### Advanced indexing and slicing\n",
    "- negative indexing is supported in python. -ve indices denote the elements from the rear end of the object (lists/strings)"
   ]
  },
  {
   "cell_type": "code",
   "execution_count": 147,
   "metadata": {},
   "outputs": [
    {
     "name": "stdout",
     "output_type": "stream",
     "text": [
      "Last element of the string PYTHON can be indexed using -1: N\n",
      "2nd last element of the list [1, 2, 3] can be indexed using -2: 2\n"
     ]
    }
   ],
   "source": [
    "x = 'PYTHON'\n",
    "y = [1, 2, 3]\n",
    "print('Last element of the string', x, 'can be indexed using -1:', x[-1])\n",
    "print('2nd last element of the list', y, 'can be indexed using -2:', y[-2])"
   ]
  },
  {
   "cell_type": "markdown",
   "metadata": {},
   "source": [
    "- If you've got an list, tuple or array and you want to get specific sets of sub-elements from it, without any long, drawn out for loops, Python has you covered with slicing.\n",
    "- Slicing can not only be used for lists, tuples or arrays, but custom data structures as well, with the slice object, which will be used later on in this article.\n",
    "- Format for slicing is:\n",
    "`<object>[start : stop : steps]`\n",
    "which means that slicing will start from index `start` will go up to `stop` in step of `steps`. \n",
    "- Default value of `start` is 0, `stop` is the last index of list/string and for `steps` it is 1."
   ]
  },
  {
   "cell_type": "code",
   "execution_count": 148,
   "metadata": {},
   "outputs": [
    {
     "name": "stdout",
     "output_type": "stream",
     "text": [
      "PY\n",
      "THON\n",
      "[2, 3]\n",
      "PTO\n",
      "NOHTYP\n"
     ]
    }
   ],
   "source": [
    "print(x[:2])\n",
    "print(x[2:])\n",
    "print(y[-2:])\n",
    "print(x[::2])\n",
    "print(x[::-1])"
   ]
  },
  {
   "cell_type": "markdown",
   "metadata": {},
   "source": [
    "### Dictionaries\n",
    "- Dictionary is an unordered collection of data values, used to store data values like a map\n",
    "- Dictionary holds key:value pair.\n",
    "- Key value is provided in the dictionary to make it more optimized.\n",
    "- Each key-value pair in a Dictionary is separated by a colon `:`, whereas each key is separated by a `,`.\n",
    "- Keys of a Dictionary must be unique and of immutable data type such as Strings, Integers and tuples, but the key-values can be repeated and be of any type.\n",
    "- Dictionary keys are case sensitive"
   ]
  },
  {
   "cell_type": "code",
   "execution_count": 166,
   "metadata": {},
   "outputs": [
    {
     "name": "stdout",
     "output_type": "stream",
     "text": [
      "The value of x is: {} & its type is: <class 'dict'>\n",
      "The value of y is: {} & its type is: <class 'dict'>\n",
      "{1: 2, 2: 'two'}\n",
      "{'hello': 'world'}\n",
      "{'x': {'hello': 'world'}} \n",
      "\n",
      "Length:\n",
      "x has 1 key-val pairs\n",
      "\n",
      "Deleting a key-val pair\n",
      "{}\n",
      "{'x': {}} <-notice that the y['x'] entry has also changed. b/c the reference to x was stored in y['x']\n",
      "clear() removes all the key-val pairs! resulting in z to be {} \n",
      "\n",
      "Getting the keys of a dict: the keys() method\n",
      "dict_keys([1, '2', 3])\n",
      "[1, '2', 3] \n",
      "\n",
      "Getting the values of a dict: the values() method\n",
      "dict_values(['1', 'two', 3.0])\n",
      "['1', 'two', 3.0] \n",
      "\n",
      "Getting the key-val pairs of a dict: the items() method\n",
      "dict_items([(1, '1'), ('2', 'two'), (3, 3.0)])\n",
      "[(1, '1'), ('2', 'two'), (3, 3.0)] \n",
      "\n"
     ]
    }
   ],
   "source": [
    "x = {} # empty dictionary\n",
    "print('The value of x is:', x, '& its type is:', type(x))\n",
    "y = dict() #empty dict\n",
    "print('The value of y is:', y, '& its type is:', type(y))\n",
    "z = {1: 2, 2: 'two'}\n",
    "print(z)\n",
    "x['hello'] = 'world'\n",
    "print(x)\n",
    "y['x'] = x\n",
    "print(y, '\\n')\n",
    "print('Length:')\n",
    "print('x has', len(x), 'key-val pairs\\n')\n",
    "print('Deleting a key-val pair')\n",
    "del x['hello']\n",
    "print(x)\n",
    "print(y, '''<-notice that the y['x'] entry has also changed. b/c the reference to x was stored in y['x']''')\n",
    "z.clear()\n",
    "print('clear() removes all the key-val pairs! resulting in z to be', z, '\\n')\n",
    "\n",
    "x = {1: '1', '2': 'two', 3: 3.}\n",
    "print('Getting the keys of a dict: the keys() method')\n",
    "print(x.keys())\n",
    "print(list(x.keys()), '\\n')\n",
    "print('Getting the values of a dict: the values() method')\n",
    "print(x.values())\n",
    "print(list(x.values()), '\\n')\n",
    "print('Getting the key-val pairs of a dict: the items() method')\n",
    "print(x.items())\n",
    "print(list(x.items()), '\\n')"
   ]
  },
  {
   "cell_type": "markdown",
   "metadata": {},
   "source": [
    "### The Range Function\n",
    "- The range function generates arithmetic progressions\n",
    "`range(start[, end[, steps]])`\n",
    "- The `start`, `end` and `steps` have the same meaning as in slicing operation.\n",
    "- The AP hence generated is given by: `start + (n-1) steps` where `n = argmax(start + (n-1) steps)` such that `start + (n-1) steps < end`\n",
    "- range() doesn't return a list in `python>3`."
   ]
  },
  {
   "cell_type": "code",
   "execution_count": 198,
   "metadata": {},
   "outputs": [
    {
     "name": "stdout",
     "output_type": "stream",
     "text": [
      "range(0, 5)\n",
      "[0, 1, 2, 3, 4]\n",
      "[0, 2, 4, 6, 8]\n",
      "[10, 8, 6, 4, 2]\n"
     ]
    }
   ],
   "source": [
    "print(range(5))\n",
    "print(list(range(5)))\n",
    "print(list(range(0, 10, 2)))\n",
    "print(list(range(10, 0, -2))) # start is always inclusive"
   ]
  },
  {
   "cell_type": "markdown",
   "metadata": {},
   "source": [
    "### The enumerate function\n",
    "- enumerate() method adds a counter to an iterable and returns it in a form of enumerate object.\n",
    "- This enumerate object can then be used directly in for loops or be converted into a list of tuples using list() method."
   ]
  },
  {
   "cell_type": "code",
   "execution_count": 199,
   "metadata": {},
   "outputs": [
    {
     "name": "stdout",
     "output_type": "stream",
     "text": [
      "<enumerate object at 0x7f7ca958e5e8>\n",
      "[(0, 0), (1, 1), (2, 2), (3, 3), (4, 4)]\n",
      "[(0, 5), (1, 4), (2, 3), (3, 2), (4, 1)]\n"
     ]
    }
   ],
   "source": [
    "print(enumerate(range(5)))\n",
    "print(list(enumerate(range(5))))\n",
    "print(list(enumerate(range(5, 0,-1))))"
   ]
  },
  {
   "cell_type": "markdown",
   "metadata": {},
   "source": [
    "### The zip function\n",
    "- zip() is to maps the similar index of multiple containers so that they can be used just using as single entity."
   ]
  },
  {
   "cell_type": "code",
   "execution_count": 207,
   "metadata": {},
   "outputs": [
    {
     "name": "stdout",
     "output_type": "stream",
     "text": [
      "<zip object at 0x7f7ca9785ac8>\n",
      "[(1, 'one'), (2, 'two'), (3, 'three')]\n",
      "[(0, (1, 'one')), (1, (2, 'two')), (2, (3, 'three'))]\n",
      "{1: 'one', 2: 'two', 3: 'three'}\n",
      "{'one': 1, 'two': 2, 'three': 3}\n",
      "\n",
      "If number of elements do not match the elements of smaller container are mapped to the elemets of the larger one  till the index corresponding to the length of the smaller container\n",
      "[(0, 0), (1, 1)]\n",
      "[(0, 0), (1, 1), (2, 2), (3, 3)]\n"
     ]
    }
   ],
   "source": [
    "x = [1, 2, 3]\n",
    "y = ['one', 'two', 'three']\n",
    "print(zip(x, y))\n",
    "print(list(zip(x, y)))\n",
    "print(list(enumerate(zip(x, y))))\n",
    "print(dict(zip(x, y)))\n",
    "print(dict(zip(y, x)))\n",
    "print()\n",
    "print('If number of elements do not match the elements of smaller container are mapped\\\n",
    " to the elemets of the larger one  till the index corresponding to the length of the smaller container')\n",
    "print(list(zip(range(4), range(2))))\n",
    "print(list(zip(range(4), range(6))))"
   ]
  },
  {
   "cell_type": "markdown",
   "metadata": {},
   "source": [
    "### Comprehensions\n",
    "- Comprehensions provide us with a short and concise way to construct new sequences (lists, set, dictionary etc.) using sequences which have been already defined.\n",
    "- Python supports the following 4 types of comprehensions:\n",
    "\n",
    "    - List Comprehensions\n",
    "    - Dictionary Comprehensions\n",
    "    - Set Comprehensions\n",
    "    - Generator Comprehensions"
   ]
  },
  {
   "cell_type": "code",
   "execution_count": 217,
   "metadata": {},
   "outputs": [
    {
     "name": "stdout",
     "output_type": "stream",
     "text": [
      "List comprehensions\n",
      "[0, 1, 2, 3, 4]\n",
      "[0, 1, 4, 9, 16]\n",
      "[0, 2, 6, 12, 20]\n",
      "[(0, 0), (1, 1), (2, 4), (3, 9), (4, 16)]\n",
      "{0: 0, 1: 1, 2: 4, 3: 9, 4: 16}\n",
      "\n",
      "Dict comprehensions\n",
      "{'0': 0, '1': 1, '2': 2, '3': 3, '4': 4}\n",
      "{0: 15, 1: 16, 2: 17, 3: 18, 4: 19}\n",
      "\n",
      "Set comprehensions\n",
      "{1, 2, 3}\n",
      "\n",
      "Generator comprehensions\n",
      "<generator object <genexpr> at 0x7f7ca92faf68>\n"
     ]
    }
   ],
   "source": [
    "print('List comprehensions')\n",
    "print([i for i in range(5)])\n",
    "print([i**2 for i in range(5)])\n",
    "print([i**2 + j for i, j in enumerate(range(5))])\n",
    "print([(i, i**2) for i in range(5)])\n",
    "print(dict([(i, i**2) for i in range(5)]))\n",
    "print()\n",
    "\n",
    "print('Dict comprehensions')\n",
    "print({str(i): i for i in range(5)})\n",
    "print({i: j for i, j in enumerate(range(15, 20))})\n",
    "print()\n",
    "\n",
    "print('Set comprehensions')\n",
    "print({i for i in [1, 2, 3, 3]})\n",
    "print()\n",
    "\n",
    "print('Generator comprehensions')\n",
    "print(i for i in range(10, 20))"
   ]
  },
  {
   "cell_type": "markdown",
   "metadata": {},
   "source": [
    "#### Adding conditions in comprehensions"
   ]
  },
  {
   "cell_type": "code",
   "execution_count": 218,
   "metadata": {},
   "outputs": [
    {
     "name": "stdout",
     "output_type": "stream",
     "text": [
      "[0, 2, 4, 6, 8]\n"
     ]
    }
   ],
   "source": [
    "print([i for i in range(10) if i % 2 == 0]) # prints even numbers"
   ]
  },
  {
   "cell_type": "markdown",
   "metadata": {},
   "source": [
    "### if - elif - else\n",
    "- Like other languages python has the usual conditional statements.\n",
    "- The `if`/`elif` statements are followed by conditons which when `True`, result in the execution of the block below.\n",
    "- Only one block is executed in an `if`-`elif`-`else` ladder"
   ]
  },
  {
   "cell_type": "code",
   "execution_count": 228,
   "metadata": {},
   "outputs": [
    {
     "name": "stdout",
     "output_type": "stream",
     "text": [
      "1\n",
      "a is 1\n"
     ]
    }
   ],
   "source": [
    "a = int(input())\n",
    "if a is 1:\n",
    "    print('a is 1')\n",
    "elif a is 2:\n",
    "    print('a is 2')\n",
    "else:\n",
    "    print('a is neither 1 nor 2')"
   ]
  },
  {
   "cell_type": "markdown",
   "metadata": {},
   "source": [
    "### The for loop\n",
    "- Can iterate over any sequence\n",
    "\n",
    "```\n",
    "for var in sequence:\n",
    "    statements(s)\n",
    "```"
   ]
  },
  {
   "cell_type": "code",
   "execution_count": 3,
   "metadata": {},
   "outputs": [
    {
     "name": "stdout",
     "output_type": "stream",
     "text": [
      "0,1,2,3,4,5,6,7,8,9,\n",
      "\n",
      "The square of 0 is 0\n",
      "The square of 1 is 1\n",
      "The square of 2 is 4\n",
      "The square of 3 is 9\n",
      "The square of 4 is 16\n",
      "\n",
      "The odd number 1 square is 1\n",
      "The odd number 3 square is 9\n",
      "\n",
      "letter 0 is H\n",
      "letter 1 is e\n",
      "letter 2 is l\n",
      "letter 3 is l\n",
      "letter 4 is o\n"
     ]
    }
   ],
   "source": [
    "for i in range(10):\n",
    "    print(i, end=',')\n",
    "print('\\n')\n",
    "\n",
    "x = [(i, i**2) for i in range(5)]\n",
    "for i, j in x:\n",
    "    print('The square of {} is {}'.format(i, j))\n",
    "print()\n",
    "\n",
    "x = [(i, i**2) for i in range(5) if i%2==1]\n",
    "for i, j in x:\n",
    "    print('The odd number {} square is {}'.format(i, j))\n",
    "print()\n",
    "\n",
    "\n",
    "for i, j in enumerate('Hello'):\n",
    "    print('letter {} is {}'.format(i, j))"
   ]
  },
  {
   "cell_type": "markdown",
   "metadata": {},
   "source": [
    "### The while loop\n",
    "- `while` loop is used to execute a block of statements repeatedly until a given a condition is satisfied.\n",
    "- When the condition becomes false, the line immediately after the loop in program is executed.\n",
    "\n",
    "```\n",
    "while expression:\n",
    "    statements\n",
    "```"
   ]
  },
  {
   "cell_type": "code",
   "execution_count": 235,
   "metadata": {},
   "outputs": [
    {
     "name": "stdout",
     "output_type": "stream",
     "text": [
      "1 is less than 3\n",
      "2 is less than 3\n"
     ]
    }
   ],
   "source": [
    "a = 1\n",
    "while a < 3:\n",
    "    print('{} is less than 3'.format(a))\n",
    "    a += 1 # dont forget to update the control var"
   ]
  },
  {
   "cell_type": "markdown",
   "metadata": {},
   "source": [
    "### `break` and `continue`\n",
    "- The `break` statement, like in C, breaks out of the innermost enclosing `for` or `while` loop.\n",
    "- The `continue` statement, also like in C, continues with the next iteration of the loop"
   ]
  },
  {
   "cell_type": "code",
   "execution_count": 238,
   "metadata": {},
   "outputs": [
    {
     "name": "stdout",
     "output_type": "stream",
     "text": [
      "a = 0\n",
      "a = 1\n",
      "a = 2\n"
     ]
    }
   ],
   "source": [
    "a = 0\n",
    "while True:\n",
    "    if a > 2:\n",
    "        break\n",
    "    print('a = {}'.format(a))\n",
    "    a += 1"
   ]
  },
  {
   "cell_type": "code",
   "execution_count": 239,
   "metadata": {},
   "outputs": [
    {
     "name": "stdout",
     "output_type": "stream",
     "text": [
      "1, 3, 5, 7, 9, "
     ]
    }
   ],
   "source": [
    "for a in range(10):\n",
    "    if a % 2 == 0:\n",
    "        continue\n",
    "    print(a, end=', ')"
   ]
  },
  {
   "cell_type": "markdown",
   "metadata": {},
   "source": [
    "### Defining Functions\n",
    "- The keyword `def` introduces a function definition.\n",
    "- It must be followed by the function name and the parenthesized list of formal parameters.\n",
    "- The statements that form the body of the function start at the next line, and must be indented.\n",
    "- The first statement of the function body can optionally be a string literal; this string literal is the function’s documentation string, or docstring.\n",
    "- The `return` function exits the function and returns the value following it. If no value is specified or there is no `return` statement altogether, the function ends when the indentation level changes to the one at which the function was defined.\n",
    "- When no return value is specified `None` is returned\n",
    "- Python supports 2 kinds of arguments - Positional and Keywords\n",
    "     - Positional arguments `(a, b)` are specified in the function definition.\n",
    "     \n",
    "         Eg. ```\n",
    "         def funcname(a, b):\n",
    "         ...\n",
    "         ```\n",
    "     - Keyword arguments `(b, c)` are specified with some value in the function definition.\n",
    "      \n",
    "         Eg. ```\n",
    "         def funcname(a, b=0, c=2):\n",
    "         ...\n",
    "         ```\n",
    "- **Note that keyword arguments will always follow positional arguments**"
   ]
  },
  {
   "cell_type": "code",
   "execution_count": 240,
   "metadata": {},
   "outputs": [
    {
     "name": "stdout",
     "output_type": "stream",
     "text": [
      "The square of 2 is 4\n"
     ]
    }
   ],
   "source": [
    "def square(n):\n",
    "    return n**2\n",
    "\n",
    "print('The square of {} is {}'.format(2, square(2)))"
   ]
  },
  {
   "cell_type": "code",
   "execution_count": 247,
   "metadata": {},
   "outputs": [
    {
     "name": "stdout",
     "output_type": "stream",
     "text": [
      "[0, 1, 1, 2, 3]\n",
      "\n",
      "[0, 1, 1]\n",
      "None\n",
      "\n",
      "[0, 1, 1, 2]\n"
     ]
    }
   ],
   "source": [
    "def print_fib(n=4): #keyword arguments are option and may not be provided during function call\n",
    "    fibs = [0, 1]\n",
    "    for i in range(2, n):\n",
    "        fibs.append(fibs[-1] + fibs[-2])\n",
    "    print(fibs)\n",
    "\n",
    "print_fib(5)\n",
    "print()\n",
    "print(print_fib(n=3)) # should print None\n",
    "print()\n",
    "print_fib() # no args provided def value specified in definition is assigned to n!"
   ]
  },
  {
   "cell_type": "code",
   "execution_count": 252,
   "metadata": {},
   "outputs": [
    {
     "name": "stdout",
     "output_type": "stream",
     "text": [
      "Python is awesome!!\n",
      "MATLAB is boring\n",
      "Python is great!\n"
     ]
    }
   ],
   "source": [
    "def somefunc(language, adjective='awesome!!'):\n",
    "    print('{} is {}'.format(language, adjective))\n",
    "\n",
    "somefunc('Python')\n",
    "somefunc('MATLAB', adjective='boring')\n",
    "somefunc(language='Python', adjective='great!') # works too\n",
    "\n",
    "# somefunc(adjective='great', 'Python') # Throws exception"
   ]
  },
  {
   "cell_type": "markdown",
   "metadata": {},
   "source": [
    "### Coding guidelines for python PEP8\n",
    "A few points from the `PEP8` guideline to write python code.\n",
    "\n",
    "- Use 4 spaces for indentation."
   ]
  },
  {
   "cell_type": "markdown",
   "metadata": {},
   "source": [
    "- One statement per line."
   ]
  },
  {
   "cell_type": "code",
   "execution_count": 253,
   "metadata": {},
   "outputs": [
    {
     "name": "stdout",
     "output_type": "stream",
     "text": [
      "a is one\n",
      "a is one\n"
     ]
    }
   ],
   "source": [
    "# NOT RECOMMENDED\n",
    "a = 1\n",
    "if a == 1: print('a is one')\n",
    "    \n",
    "# RECOMMENDED\n",
    "if a == 1:\n",
    "    print('a is one')"
   ]
  },
  {
   "cell_type": "markdown",
   "metadata": {},
   "source": [
    "- Aim for a line length of 79 characters in your Python code. This improves readibility and removes the need for horizontal scrolling in case of lonf expressions. Also you can open 2 files sid-by-side!!"
   ]
  },
  {
   "cell_type": "markdown",
   "metadata": {},
   "source": [
    "- When you write a big expression, it is best to keep the expression vertically aligned. When you do this, you'll create a \"hanging indent\"."
   ]
  },
  {
   "cell_type": "code",
   "execution_count": 256,
   "metadata": {},
   "outputs": [],
   "source": [
    "def square_of_number(\n",
    "    num1, num2, num3, \n",
    "    num4):\n",
    "    return num1**2, num2**2, num3**2, num4**2\n",
    "\n",
    "list_of_people = [\n",
    "    'Tony',\n",
    "    'Romonov',\n",
    "    'Racoon',\n",
    "    'Banner',\n",
    "    'Fury'\n",
    "]\n",
    "\n",
    "dict_of_friends = {\n",
    "    'Tony': 'Potts',\n",
    "    'Banner': 'Romonov',\n",
    "    'Rogers': 'Bucky',  # containers can have a comma after the last element.\n",
    "}"
   ]
  },
  {
   "cell_type": "markdown",
   "metadata": {},
   "source": [
    "- In Python scripts, top-level function and classes are separated by two blank lines. Method definitions inside classes should be separated by one blank line."
   ]
  },
  {
   "cell_type": "markdown",
   "metadata": {},
   "source": [
    "The complete PEP8 guideline could be found [here](https://www.python.org/dev/peps/pep-0008/)"
   ]
  },
  {
   "cell_type": "code",
   "execution_count": null,
   "metadata": {},
   "outputs": [],
   "source": []
  }
 ],
 "metadata": {
  "kernelspec": {
   "display_name": "Python 3",
   "language": "python",
   "name": "python3"
  },
  "language_info": {
   "codemirror_mode": {
    "name": "ipython",
    "version": 3
   },
   "file_extension": ".py",
   "mimetype": "text/x-python",
   "name": "python",
   "nbconvert_exporter": "python",
   "pygments_lexer": "ipython3",
   "version": "3.6.3"
  }
 },
 "nbformat": 4,
 "nbformat_minor": 2
}
